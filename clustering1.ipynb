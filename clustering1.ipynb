{
  "nbformat": 4,
  "nbformat_minor": 0,
  "metadata": {
    "colab": {
      "name": "Untitled4.ipynb",
      "provenance": []
    },
    "kernelspec": {
      "name": "python3",
      "display_name": "Python 3"
    }
  },
  "cells": [
    {
      "cell_type": "code",
      "metadata": {
        "id": "YvMv0DFTnrzP",
        "colab_type": "code",
        "colab": {}
      },
      "source": [
        "import pandas as pd\n",
        "import numpy as np"
      ],
      "execution_count": 0,
      "outputs": []
    },
    {
      "cell_type": "markdown",
      "metadata": {
        "id": "M4InXe645j2R",
        "colab_type": "text"
      },
      "source": [
        "**Assumption**\n",
        "**Using this old link for data: https://en.wikipedia.org/w/index.php?title=List_of_postal_codes_of_Canada:_M&oldid=945633050. **"
      ]
    },
    {
      "cell_type": "code",
      "metadata": {
        "id": "jbVDsBf_n0IP",
        "colab_type": "code",
        "colab": {}
      },
      "source": [
        "df_pre = pd.read_html('https://en.wikipedia.org/w/index.php?title=List_of_postal_codes_of_Canada:_M&oldid=945633050.')"
      ],
      "execution_count": 0,
      "outputs": []
    },
    {
      "cell_type": "code",
      "metadata": {
        "id": "yHSYmzTEn3C7",
        "colab_type": "code",
        "colab": {
          "base_uri": "https://localhost:8080/",
          "height": 34
        },
        "outputId": "fbf4c92b-d158-4f82-9a48-d3bd832511ad"
      },
      "source": [
        "df = df_pre[0]\n",
        "\n",
        "df['Borough'].replace('Not assigned', np.nan, inplace = True)\n",
        "df.dropna(subset = ['Borough'], inplace= True)\n",
        "df.reset_index(drop = True)\n",
        "\n",
        "df.columns = ['PostalCode', 'Borough', 'Neighborhood']\n",
        "df = df.groupby(['PostalCode', 'Borough'])['Neighborhood'].apply(', '.join).reset_index()\n",
        "\n",
        "df.shape"
      ],
      "execution_count": 67,
      "outputs": [
        {
          "output_type": "execute_result",
          "data": {
            "text/plain": [
              "(103, 3)"
            ]
          },
          "metadata": {
            "tags": []
          },
          "execution_count": 67
        }
      ]
    },
    {
      "cell_type": "code",
      "metadata": {
        "id": "a73JzL_9rmBp",
        "colab_type": "code",
        "colab": {}
      },
      "source": [
        ""
      ],
      "execution_count": 0,
      "outputs": []
    }
  ]
}